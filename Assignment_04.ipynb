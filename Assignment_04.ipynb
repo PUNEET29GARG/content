{
  "nbformat": 4,
  "nbformat_minor": 0,
  "metadata": {
    "colab": {
      "provenance": [],
      "authorship_tag": "ABX9TyN/d4g+aUtxmiTIVqoGzlLI",
      "include_colab_link": true
    },
    "kernelspec": {
      "name": "python3",
      "display_name": "Python 3"
    },
    "language_info": {
      "name": "python"
    }
  },
  "cells": [
    {
      "cell_type": "markdown",
      "metadata": {
        "id": "view-in-github",
        "colab_type": "text"
      },
      "source": [
        "<a href=\"https://colab.research.google.com/github/PUNEET29GARG/content/blob/main/Assignment_04.ipynb\" target=\"_parent\"><img src=\"https://colab.research.google.com/assets/colab-badge.svg\" alt=\"Open In Colab\"/></a>"
      ]
    },
    {
      "cell_type": "markdown",
      "source": [
        "Write a Python program to get the first and last character of a string."
      ],
      "metadata": {
        "id": "P03iquALw74q"
      }
    },
    {
      "cell_type": "code",
      "source": [
        "s=\"PuneetgarG\"\n",
        "\n",
        "print(\"first character is : \", s[0] , \" And last is : \", s[-1])"
      ],
      "metadata": {
        "colab": {
          "base_uri": "https://localhost:8080/"
        },
        "id": "PWPD0-PCw8cN",
        "outputId": "65351563-09dd-4fe4-eba1-722f9d2d4f01"
      },
      "execution_count": null,
      "outputs": [
        {
          "output_type": "stream",
          "name": "stdout",
          "text": [
            "first character is :  P  And last is :  G\n"
          ]
        }
      ]
    },
    {
      "cell_type": "markdown",
      "source": [
        "Write a Python program to check if a given year is a leap year or not."
      ],
      "metadata": {
        "id": "-B7H-AIIxD-m"
      }
    },
    {
      "cell_type": "code",
      "execution_count": null,
      "metadata": {
        "colab": {
          "base_uri": "https://localhost:8080/"
        },
        "id": "tdg1JcVwDMf5",
        "outputId": "47bc7fc1-6e79-4968-c015-8de84e48f0a7"
      },
      "outputs": [
        {
          "output_type": "stream",
          "name": "stdout",
          "text": [
            "Enter the year to check if it is leap year or not : 14\n",
            "14 is not a Leap year\n"
          ]
        }
      ],
      "source": [
        "year=int(input(\"Enter the year to check if it is leap year or not : \"))\n",
        "\n",
        "if(year%4==0):\n",
        "  if(year%100!=0):\n",
        "    print(f\"{year} is a Leap year\")\n",
        "  else:\n",
        "    if(year%400==0):\n",
        "     print(f\"{year} is a Leap year\")\n",
        "    else:\n",
        "     print(f\"{year} is not a Leap year\" )\n",
        "else:\n",
        "  print(f\"{year} is not a Leap year\")\n",
        "\n",
        "\n",
        "\n",
        "\n"
      ]
    },
    {
      "cell_type": "markdown",
      "source": [
        "Write a Python program to check if a number is positive, negative, or zero."
      ],
      "metadata": {
        "id": "8Lnr_DAwxHiP"
      }
    },
    {
      "cell_type": "code",
      "source": [
        "number=int(input(\"Enter a no. :\"))\n",
        "\n",
        "if(number>0):\n",
        "  print(\"number is positive\")\n",
        "if(number<0):\n",
        "  print(\"number is negative\")\n",
        "if(number==0):\n",
        "  print(\"number is zero\")\n"
      ],
      "metadata": {
        "colab": {
          "base_uri": "https://localhost:8080/"
        },
        "id": "9F7zNlunD0PH",
        "outputId": "0435ccc0-2d41-453c-a5fa-af7cb5c83761"
      },
      "execution_count": null,
      "outputs": [
        {
          "output_type": "stream",
          "name": "stdout",
          "text": [
            "Enter a no. :56\n",
            "number is positive\n"
          ]
        }
      ]
    },
    {
      "cell_type": "markdown",
      "source": [
        "Write a Python program to print all prime numbers within a given range"
      ],
      "metadata": {
        "id": "Rb4sRfNyxKk5"
      }
    },
    {
      "cell_type": "code",
      "source": [
        "\n",
        "n=number=int(input(\"Enter the range in which you want to check prime numbers\"))\n",
        "def prime(n):\n",
        "  if(n<=1):\n",
        "    return (\"enter a valid range\")\n",
        "  else:\n",
        "    for x in range(2,n+1):\n",
        "      for y in range(2,x):\n",
        "        if(x%y==0):\n",
        "          break\n",
        "      else:\n",
        "        print(x)\n",
        "\n",
        "prime(n)\n",
        "\n",
        "\n",
        "\n"
      ],
      "metadata": {
        "colab": {
          "base_uri": "https://localhost:8080/",
          "height": 53
        },
        "id": "VuygtTFCzSkT",
        "outputId": "68bc5434-3dac-431c-98b1-7a79db973f44"
      },
      "execution_count": null,
      "outputs": [
        {
          "name": "stdout",
          "output_type": "stream",
          "text": [
            "Enter the range in which you want to check prime numbers1\n"
          ]
        },
        {
          "output_type": "execute_result",
          "data": {
            "text/plain": [
              "'enter a valid range'"
            ],
            "application/vnd.google.colaboratory.intrinsic+json": {
              "type": "string"
            }
          },
          "metadata": {},
          "execution_count": 16
        }
      ]
    },
    {
      "cell_type": "markdown",
      "source": [
        "Write a Python program to find the index of a substring in a given string."
      ],
      "metadata": {
        "id": "MMWAd8HcwYcP"
      }
    },
    {
      "cell_type": "code",
      "source": [
        "name=\"PuneetKumarGarg\"\n",
        "sub_string=\"Kumar\"\n",
        "\n",
        "name.index(\"Kumar\")"
      ],
      "metadata": {
        "colab": {
          "base_uri": "https://localhost:8080/"
        },
        "id": "jJpHUDN9HGuj",
        "outputId": "ae4d69a7-bf8b-422b-f06f-15a4c401cd21"
      },
      "execution_count": null,
      "outputs": [
        {
          "output_type": "execute_result",
          "data": {
            "text/plain": [
              "6"
            ]
          },
          "metadata": {},
          "execution_count": 1
        }
      ]
    }
  ]
}